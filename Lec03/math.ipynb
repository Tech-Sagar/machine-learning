{
 "cells": [
  {
   "cell_type": "code",
   "execution_count": 4,
   "metadata": {
    "collapsed": false
   },
   "outputs": [
    {
     "name": "stdout",
     "output_type": "stream",
     "text": [
      "(2.0, 1.0)\n"
     ]
    }
   ],
   "source": [
    "# Linear 1 variate classifier\n",
    "import numpy as np\n",
    "import pandas as pd\n",
    "\n",
    "def clf(x_train, y_train):\n",
    "    sigma_x = x_train.sum()\n",
    "    sigma_y = y_train.sum()\n",
    "    sigma_xy = (x_train * y_train).sum()\n",
    "    sigma_x2 = (x_train * x_train).sum()\n",
    "    sigma_x_2 = sigma_x * sigma_x\n",
    "    n = x_train.shape[0]\n",
    "    \n",
    "    m = (n * sigma_xy - sigma_x * sigma_y)/(n * sigma_x2 - sigma_x_2)\n",
    "    b = (sigma_y * sigma_x2 - sigma_x * sigma_xy)/(n * sigma_x2 - sigma_x_2)\n",
    "    \n",
    "    return m, b\n",
    "\n",
    "x_train = np.array([1, 2, 3])\n",
    "y_train = np.array([3, 5, 7])\n",
    "print (clf(x_train, y_train))"
   ]
  },
  {
   "cell_type": "code",
   "execution_count": 6,
   "metadata": {
    "collapsed": false
   },
   "outputs": [
    {
     "data": {
      "text/plain": [
       "[array([  9.,  11.,  13.])]"
      ]
     },
     "execution_count": 6,
     "metadata": {},
     "output_type": "execute_result"
    }
   ],
   "source": [
    "# Predictor\n",
    "def pred(clf, x_train, y_train, x_test):\n",
    "    m, b = clf(x_train, y_train)\n",
    "    pred = []\n",
    "    pred.append(m * x_test + b)\n",
    "    \n",
    "    return pred\n",
    "\n",
    "x_train = np.array([1, 2, 3])\n",
    "y_train = np.array([3, 5, 7])\n",
    "x_test = np.array([4, 5, 6])\n",
    "y_test = np.array([9, 11, 13])\n",
    "\n",
    "pred(clf, x_train, y_train, x_test)"
   ]
  },
  {
   "cell_type": "code",
   "execution_count": 16,
   "metadata": {
    "collapsed": false
   },
   "outputs": [
    {
     "data": {
      "text/plain": [
       "1.0"
      ]
     },
     "execution_count": 16,
     "metadata": {},
     "output_type": "execute_result"
    }
   ],
   "source": [
    "# Score calculator\n",
    "def score(clf, pred, x_train, y_train, x_test, y_test):\n",
    "    pred = pred(clf, x_train, y_train, x_test)\n",
    "    num = ((y_test - pred)**2).sum()\n",
    "    den = ((y_test - y_test.mean())**2).sum()\n",
    "    return 1 - num/den\n",
    "\n",
    "score(clf, pred, x_train, y_train, x_test, y_test)"
   ]
  },
  {
   "cell_type": "code",
   "execution_count": 273,
   "metadata": {
    "collapsed": false
   },
   "outputs": [
    {
     "data": {
      "text/plain": [
       "([1, 2, 3, 5, 6, 8, 9, 10], [4, 7], [2, 4, 6, 10, 12, 16, 18, 20], [8, 14])"
      ]
     },
     "execution_count": 273,
     "metadata": {},
     "output_type": "execute_result"
    }
   ],
   "source": [
    "# Train-Test splitter\n",
    "from random import random\n",
    "def split(x, y):\n",
    "    size = x.shape[0]\n",
    "    decision_array = []\n",
    "    for i in range(size):\n",
    "        if random() <= 0.20:\n",
    "            decision_array.append(1)\n",
    "        else:\n",
    "            decision_array.append(0)\n",
    "    \n",
    "    x_train = []\n",
    "    x_test = []\n",
    "    y_train = []\n",
    "    y_test = []\n",
    "    \n",
    "    for i in range(size):\n",
    "        if decision_array[i] == 0:\n",
    "            x_train.append(x[i])\n",
    "            y_train.append(y[i])\n",
    "        else:\n",
    "            x_test.append(x[i])\n",
    "            y_test.append(y[i])\n",
    "    \n",
    "    return x_train, x_test, y_train, y_test\n",
    "\n",
    "X = np.array([1, 2, 3, 4, 5, 6, 7, 8, 9, 10])\n",
    "Y = np.array([2, 4, 6, 8, 10, 12, 14, 16, 18, 20])\n",
    "split(X, Y)"
   ]
  }
 ],
 "metadata": {
  "kernelspec": {
   "display_name": "Python 3",
   "language": "python",
   "name": "python3"
  },
  "language_info": {
   "codemirror_mode": {
    "name": "ipython",
    "version": 3.0
   },
   "file_extension": ".py",
   "mimetype": "text/x-python",
   "name": "python",
   "nbconvert_exporter": "python",
   "pygments_lexer": "ipython3",
   "version": "3.6.0"
  }
 },
 "nbformat": 4,
 "nbformat_minor": 0
}
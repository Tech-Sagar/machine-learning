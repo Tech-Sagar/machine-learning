{
 "cells": [
  {
   "cell_type": "code",
   "execution_count": 198,
   "metadata": {},
   "outputs": [],
   "source": [
    "from numpy import random, exp, dot, array"
   ]
  },
  {
   "cell_type": "code",
   "execution_count": 221,
   "metadata": {
    "collapsed": true
   },
   "outputs": [],
   "source": [
    "class NeuralNetwork():\n",
    "    def __init__(self):\n",
    "        random.seed(0)\n",
    "        self.weights = 2 * random.random((3,1)) - 1\n",
    "    \n",
    "    def sigmoid(self, x):\n",
    "        return 1/(1 + exp(-x))\n",
    "    \n",
    "    def sigmoid_derivative(self, x):\n",
    "        return x * (1 - x)\n",
    "    \n",
    "    def think(self, inputs):\n",
    "        return self.sigmoid(dot(inputs, self.weights))\n",
    "    \n",
    "    def learn(self, inputs, outputs):\n",
    "        self.thoughts = self.think(inputs)\n",
    "        \n",
    "        self.errors = outputs - self.thoughts\n",
    "        \n",
    "        self.updates = dot(inputs.T, self.errors * self.sigmoid_derivative(self.thoughts))\n",
    "        \n",
    "        self.weights += self.updates\n",
    "    \n",
    "    def train(self, inputs, outputs, num_iterations):\n",
    "        for iteration in range(num_iterations):\n",
    "            self.learn(inputs, outputs)"
   ]
  },
  {
   "cell_type": "code",
   "execution_count": 225,
   "metadata": {},
   "outputs": [
    {
     "name": "stdout",
     "output_type": "stream",
     "text": [
      "Random weights : \n",
      "[[ 0.09762701]\n",
      " [ 0.43037873]\n",
      " [ 0.20552675]]\n",
      "Weights after training : \n",
      "[[ 14.32160047]\n",
      " [ -0.20327253]\n",
      " [ -6.95764065]]\n",
      "Considering new situation [1, 0, 0] -> ?: \n",
      "[ 0.9999994]\n"
     ]
    }
   ],
   "source": [
    "neural_network = NeuralNetwork()\n",
    "print('Random weights : ')\n",
    "print(neural_network.weights)\n",
    "\n",
    "training_set_inputs = array([[0, 0, 1], [1, 1, 1], [1, 0, 1], [0, 1, 1]])\n",
    "training_set_outputs = array([[0, 1, 1, 0]]).T\n",
    "\n",
    "neural_network.train(training_set_inputs, training_set_outputs, 1000000)\n",
    "\n",
    "print('Weights after training : ')\n",
    "print(neural_network.weights)\n",
    "\n",
    "print(\"Considering new situation [1, 0, 0] -> ?: \")\n",
    "print(neural_network.think(array([1, 0, 0])))"
   ]
  }
 ],
 "metadata": {
  "kernelspec": {
   "display_name": "Python 3",
   "language": "python",
   "name": "python3"
  },
  "language_info": {
   "codemirror_mode": {
    "name": "ipython",
    "version": 3
   },
   "file_extension": ".py",
   "mimetype": "text/x-python",
   "name": "python",
   "nbconvert_exporter": "python",
   "pygments_lexer": "ipython3",
   "version": "3.5.3"
  }
 },
 "nbformat": 4,
 "nbformat_minor": 2
}

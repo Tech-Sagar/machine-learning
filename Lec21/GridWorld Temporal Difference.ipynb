{
 "cells": [
  {
   "cell_type": "code",
   "execution_count": 25,
   "metadata": {
    "collapsed": false
   },
   "outputs": [
    {
     "data": {
      "text/plain": [
       "[[0, -1, -1, -1], [-1, -1, -1, -1], [-1, -1, -1, -1], [-1, -1, -1, 0]]"
      ]
     },
     "execution_count": 25,
     "metadata": {},
     "output_type": "execute_result"
    }
   ],
   "source": [
    "from numpy import random\n",
    "WORLD_SIZE = 4\n",
    "states = [[i, j] for j in range(WORLD_SIZE) for i in range(WORLD_SIZE)]\n",
    "final_states = [[0, 0], [WORLD_SIZE - 1, WORLD_SIZE - 1]]\n",
    "rewards = [[-1 for i in range(WORLD_SIZE)] for j in range(WORLD_SIZE)]\n",
    "rewards[0][0] = 0\n",
    "rewards[WORLD_SIZE - 1][WORLD_SIZE - 1] = 0\n",
    "rewards"
   ]
  },
  {
   "cell_type": "code",
   "execution_count": 19,
   "metadata": {
    "collapsed": false
   },
   "outputs": [],
   "source": [
    "def policy():\n",
    "    return random.choice(['left', 'right', 'up', 'down'])\n",
    "\n",
    "def execute_policy(s, a):\n",
    "    i = s[0]\n",
    "    j = s[1]\n",
    "    \n",
    "    if a == 'left':\n",
    "        if i == 0:\n",
    "            return [0, j]\n",
    "        else:\n",
    "            return [i - 1, j]\n",
    "    \n",
    "    if a == 'right':\n",
    "        if i == WORLD_SIZE - 1:\n",
    "            return [WORLD_SIZE - 1, j]\n",
    "        else:\n",
    "            return [i + 1, j]\n",
    "        \n",
    "    if a == 'up':\n",
    "        if j == 0:\n",
    "            return [i, 0]\n",
    "        else:\n",
    "            return [i, j - 1]\n",
    "        \n",
    "    if a == 'down':\n",
    "        if j == WORLD_SIZE - 1:\n",
    "            return [i, WORLD_SIZE - 1]\n",
    "        else:\n",
    "            return [i, j + 1]"
   ]
  },
  {
   "cell_type": "code",
   "execution_count": 32,
   "metadata": {
    "collapsed": true
   },
   "outputs": [],
   "source": [
    "def TemporalDifference(V, alpha, gamma, number_of_episodes):\n",
    "    for episode in range(number_of_episodes):\n",
    "        i = random.randint(0, WORLD_SIZE)\n",
    "        j = random.randint(0, WORLD_SIZE)\n",
    "        s = [i, j]\n",
    "        \n",
    "        while True:\n",
    "            if s in final_states:\n",
    "                V[s[0]][s[1]] = V[s[0]][s[1]] + alpha * (rewards[s[0]][s[1]] - V[s[0]][s[1]])\n",
    "                break\n",
    "                \n",
    "            a = policy()\n",
    "            next_state = execute_policy(s, a)\n",
    "            \n",
    "            V[s[0]][s[1]] = V[s[0]][s[1]] + alpha * (rewards[s[0]][s[1]] + gamma * V[next_state[0]][next_state[1]] - V[s[0]][s[1]])\n",
    "            s = next_state"
   ]
  },
  {
   "cell_type": "code",
   "execution_count": 40,
   "metadata": {
    "collapsed": false
   },
   "outputs": [
    {
     "name": "stdout",
     "output_type": "stream",
     "text": [
      "0.000 5.433 7.183 7.743\n",
      "5.373 6.588 7.150 7.124\n",
      "7.310 7.275 6.239 5.039\n",
      "7.802 6.846 4.661 0.000\n"
     ]
    }
   ],
   "source": [
    "V = [[0 for i in range(WORLD_SIZE)] for j in range(WORLD_SIZE)]\n",
    "TemporalDifference(V, 0.05, 0.9, 100000)\n",
    "for s, V in enumerate(V):\n",
    "        print(\"%0.3f %0.3f %0.3f %0.3f\" % (abs(V[0]), abs(V[1]), abs(V[2]), abs(V[3])))"
   ]
  }
 ],
 "metadata": {
  "kernelspec": {
   "display_name": "Python 3",
   "language": "python",
   "name": "python3"
  },
  "language_info": {
   "codemirror_mode": {
    "name": "ipython",
    "version": 3
   },
   "file_extension": ".py",
   "mimetype": "text/x-python",
   "name": "python",
   "nbconvert_exporter": "python",
   "pygments_lexer": "ipython3",
   "version": "3.6.0"
  }
 },
 "nbformat": 4,
 "nbformat_minor": 2
}

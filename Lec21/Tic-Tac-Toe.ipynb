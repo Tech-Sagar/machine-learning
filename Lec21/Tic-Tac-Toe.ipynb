{
 "cells": [
  {
   "cell_type": "code",
   "execution_count": 4,
   "metadata": {
    "collapsed": false
   },
   "outputs": [],
   "source": [
    "states = []\n",
    "V = []\n",
    "totalStates = 0\n",
    "\n",
    "board = [0] * 9\n",
    "tiles = [0, 1, 2]\n",
    "\n",
    "def initBoard():\n",
    "    for i in range(0, 9):\n",
    "        board[i] = 0\n",
    "\n",
    "def create_all_states(board, player):\n",
    "    won = hasWinner(board)\n",
    "    if won == 1 or won == -1:\n",
    "        return\n",
    "    \n",
    "    for i in range(0, 9):\n",
    "        if board[i] == 0:\n",
    "            board[i] = player\n",
    "            if board[:] not in states:\n",
    "                states.append(board[:])\n",
    "                # V.append(determineValue(board, player))\n",
    "            create_all_states(board, switchPlayer(player))\n",
    "            board[i] = 0\n",
    "\n",
    "def switchPlayer(player):\n",
    "    if player == 1:\n",
    "        return 2\n",
    "    else:\n",
    "        return 1\n",
    "    \n",
    "def printBoard():\n",
    "    size = len(board)\n",
    "    for index in range(0, size):\n",
    "        if board[index] == 1:\n",
    "            print('X', end=' ')\n",
    "        elif board[index] == 2:\n",
    "            print('O', end=' ')\n",
    "        else:\n",
    "            print('_', end=' ')\n",
    "        if ((index + 1) % 3 == 0):\n",
    "            print\n",
    "\n",
    "def hasWinner(board):\n",
    "    for player in range(1, 3):\n",
    "        tile = tiles[player]\n",
    "        \n",
    "    # check horizontal\n",
    "    for i in range(0, 3):\n",
    "        i = i * 3\n",
    "        if (board[i] == tile) and \\\n",
    "        (board[i + 1] == tile) and \\\n",
    "        (board[i + 2] == tile):\n",
    "            return 1\n",
    "    \n",
    "    # check vertical\n",
    "    for i in range(0, 3):\n",
    "        if (board[i] == tile) and \\\n",
    "        (board[i + 3] == tile) and \\\n",
    "        (board[i + 6] == tile):\n",
    "            return 1\n",
    "    \n",
    "    # check diagonal 1\n",
    "    if (board[0] == tile) and \\\n",
    "    (board[4] == tile) and \\\n",
    "    (board[8] == tile):\n",
    "        return 1\n",
    "    \n",
    "    # check diagonal 2\n",
    "    if (board[6] == tile) and \\\n",
    "    (board[4] == tile) and \\\n",
    "    (board[2] == tile):\n",
    "        return 1\n",
    "    \n",
    "    for i in range(0, 9):\n",
    "        if board[i] == 0:\n",
    "            return 0\n",
    "    # Draw match\n",
    "    return -1\n",
    "\n",
    "    "
   ]
  },
  {
   "cell_type": "code",
   "execution_count": 5,
   "metadata": {
    "collapsed": false
   },
   "outputs": [
    {
     "name": "stdout",
     "output_type": "stream",
     "text": [
      "Total states : 0\n"
     ]
    }
   ],
   "source": [
    "alpha = 0.1\n",
    "create_all_states(board, 1)\n",
    "create_all_states(board, 2)\n",
    "totalStates = len(V)\n",
    "print(\"Total states : %d\" %totalStates)"
   ]
  },
  {
   "cell_type": "code",
   "execution_count": null,
   "metadata": {
    "collapsed": true
   },
   "outputs": [],
   "source": [
    "numPlayer1won = 0\n",
    "numPlater2won = 0\n",
    "numDraws = 0\n",
    "\n",
    "player = 1\n",
    "while True:\n",
    "    initBoard()\n",
    "    player = random.randint(1, 3)\n",
    "    \n",
    "    print(\"Player 1 = Computer.\")\n",
    "    print(\"Player 2 = You!\")\n",
    "    \n",
    "    "
   ]
  }
 ],
 "metadata": {
  "kernelspec": {
   "display_name": "Python 3",
   "language": "python",
   "name": "python3"
  },
  "language_info": {
   "codemirror_mode": {
    "name": "ipython",
    "version": 3
   },
   "file_extension": ".py",
   "mimetype": "text/x-python",
   "name": "python",
   "nbconvert_exporter": "python",
   "pygments_lexer": "ipython3",
   "version": "3.6.0"
  }
 },
 "nbformat": 4,
 "nbformat_minor": 2
}

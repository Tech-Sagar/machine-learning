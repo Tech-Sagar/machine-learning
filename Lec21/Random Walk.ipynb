{
 "cells": [
  {
   "cell_type": "code",
   "execution_count": 4,
   "metadata": {
    "collapsed": false
   },
   "outputs": [
    {
     "name": "stdout",
     "output_type": "stream",
     "text": [
      "V(0) = 0.000\n",
      "V(1) = 0.063\n",
      "V(2) = 0.137\n",
      "V(3) = 0.270\n",
      "V(4) = 0.449\n",
      "V(5) = 0.634\n",
      "V(6) = 1.000\n"
     ]
    }
   ],
   "source": [
    "from numpy import random\n",
    "states = range(0, 7)\n",
    "finalStates = [0, 6]\n",
    "reward = [1 if s == 6 else 0 for s in states]\n",
    "\n",
    "def policy():\n",
    "    return random.choice(['left', 'right'])\n",
    "\n",
    "def execute_policy(s, a):\n",
    "    if a == 'left':\n",
    "        return s - 1\n",
    "    else:\n",
    "        return s + 1\n",
    "\n",
    "def TD_0(V_star, alpha, gamma, numOfEp):\n",
    "    for episode in range(numOfEp):\n",
    "        s = random.randint(min(states) + 1, max(states) - 1)\n",
    "        \n",
    "        endOfEpisode = False\n",
    "        while not endOfEpisode:\n",
    "            if s in finalStates:\n",
    "                V_star[s] = V_star[s] + alpha * (reward[s] - V_star[s])\n",
    "                endOfEpisode = True\n",
    "                continue\n",
    "            \n",
    "            a = policy()\n",
    "            next_state = execute_policy(s, a)\n",
    "            \n",
    "            V_star[s] = V_star[s] + alpha * (reward[s] + gamma * V_star[next_state] - V_star[s])\n",
    "            s = next_state\n",
    "\n",
    "V_star = [0.5 for s in states]\n",
    "TD_0(V_star, 0.05, 0.9, 100000)\n",
    "for s, V_s in enumerate(V_star):\n",
    "    print(\"V(%d) = %0.3f\" % (s, V_s))"
   ]
  }
 ],
 "metadata": {
  "kernelspec": {
   "display_name": "Python 3",
   "language": "python",
   "name": "python3"
  },
  "language_info": {
   "codemirror_mode": {
    "name": "ipython",
    "version": 3
   },
   "file_extension": ".py",
   "mimetype": "text/x-python",
   "name": "python",
   "nbconvert_exporter": "python",
   "pygments_lexer": "ipython3",
   "version": "3.6.0"
  }
 },
 "nbformat": 4,
 "nbformat_minor": 2
}

{
 "cells": [
  {
   "cell_type": "code",
   "execution_count": 2,
   "metadata": {
    "collapsed": true
   },
   "outputs": [],
   "source": [
    "import numpy as np\n",
    "import pandas as pd\n",
    "import matplotlib.pyplot as plt"
   ]
  },
  {
   "cell_type": "code",
   "execution_count": 14,
   "metadata": {
    "collapsed": false
   },
   "outputs": [],
   "source": [
    "X = np.array([2.0658746e+00\n",
    ",2.3684087e+00\n",
    ",2.5399929e+00\n",
    ",2.5420804e+00\n",
    ",2.5490790e+00\n",
    ",2.7866882e+00\n",
    ",2.9116825e+00\n",
    ",3.0356270e+00\n",
    ",3.1146696e+00\n",
    ",3.1582389e+00\n",
    ",3.3275944e+00\n",
    ",3.3793165e+00\n",
    ",3.4122006e+00\n",
    ",3.4215823e+00\n",
    ",3.5315732e+00\n",
    ",3.6393002e+00\n",
    ",3.6732537e+00\n",
    ",3.9256462e+00\n",
    ",4.0498646e+00\n",
    ",4.2483348e+00\n",
    ",4.3440052e+00\n",
    ",4.3826531e+00\n",
    ",4.4230602e+00\n",
    ",4.6102443e+00\n",
    ",4.6881183e+00\n",
    ",4.9777333e+00\n",
    ",5.0359967e+00\n",
    ",5.0684536e+00\n",
    ",5.4161491e+00\n",
    ",5.4395623e+00\n",
    ",5.4563207e+00\n",
    ",5.5698458e+00\n",
    ",5.6015729e+00\n",
    ",5.6877617e+00\n",
    ",5.7215602e+00\n",
    ",5.8538914e+00\n",
    ",6.1978026e+00\n",
    ",6.3510941e+00\n",
    ",6.4797033e+00\n",
    ",6.7383791e+00\n",
    ",6.8637686e+00\n",
    ",7.0223387e+00\n",
    ",7.0782373e+00\n",
    ",7.1514232e+00\n",
    ",7.4664023e+00\n",
    ",7.5973874e+00\n",
    ",7.7440717e+00\n",
    ",7.7729662e+00\n",
    ",7.8264514e+00\n",
    ",7.9306356e+00\n",
    "])\n",
    "Y = np.array([7.7918926e-01\n",
    ",9.1596757e-01\n",
    ",9.0538354e-01\n",
    ",9.0566138e-01\n",
    ",9.3898890e-01\n",
    ",9.6684740e-01\n",
    ",9.6436824e-01\n",
    ",9.1445939e-01\n",
    ",9.3933944e-01\n",
    ",9.6074971e-01\n",
    ",8.9837094e-01\n",
    ",9.1209739e-01\n",
    ",9.4238499e-01\n",
    ",9.6624578e-01\n",
    ",1.0526500e+00\n",
    ",1.0143791e+00\n",
    ",9.5969426e-01\n",
    ",9.6853716e-01\n",
    ",1.0766065e+00\n",
    ",1.1454978e+00\n",
    ",1.0340625e+00\n",
    ",1.0070009e+00\n",
    ",9.6683648e-01\n",
    ",1.0895919e+00\n",
    ",1.0634462e+00\n",
    ",1.1237239e+00\n",
    ",1.0323374e+00\n",
    ",1.0874452e+00\n",
    ",1.0702988e+00\n",
    ",1.1606493e+00\n",
    ",1.0778037e+00\n",
    ",1.1069758e+00\n",
    ",1.0971875e+00\n",
    ",1.1648603e+00\n",
    ",1.1411796e+00\n",
    ",1.0844156e+00\n",
    ",1.1252493e+00\n",
    ",1.1168341e+00\n",
    ",1.1970789e+00\n",
    ",1.2069462e+00\n",
    ",1.1251046e+00\n",
    ",1.1235672e+00\n",
    ",1.2132829e+00\n",
    ",1.2522652e+00\n",
    ",1.2497065e+00\n",
    ",1.1799706e+00\n",
    ",1.1897299e+00\n",
    ",1.3029934e+00\n",
    ",1.2601134e+00\n",
    ",1.2562267e+00\n",
    "])\n",
    "X = pd.DataFrame(X)\n",
    "Y = pd.DataFrame(Y)"
   ]
  },
  {
   "cell_type": "code",
   "execution_count": 23,
   "metadata": {
    "collapsed": false
   },
   "outputs": [],
   "source": [
    "X = (X - X.mean()) / X.std()"
   ]
  },
  {
   "cell_type": "code",
   "execution_count": 28,
   "metadata": {
    "collapsed": false
   },
   "outputs": [],
   "source": [
    "Y = (Y - Y.mean()) / Y.std()"
   ]
  },
  {
   "cell_type": "code",
   "execution_count": 33,
   "metadata": {
    "collapsed": false
   },
   "outputs": [],
   "source": [
    "# X.insert(0, 'Ones', 1)"
   ]
  },
  {
   "cell_type": "code",
   "execution_count": 47,
   "metadata": {
    "collapsed": false
   },
   "outputs": [],
   "source": [
    "# X = np.matrix(X.values)  \n",
    "# Y = np.matrix(Y.values)  \n",
    "# theta = np.matrix(np.array([0,0]))"
   ]
  },
  {
   "cell_type": "code",
   "execution_count": 51,
   "metadata": {
    "collapsed": true
   },
   "outputs": [],
   "source": [
    "def computeCost(X, y, theta):  \n",
    "    inner = np.power(((X * theta.T) - y), 2)\n",
    "    return np.sum(inner) / (2 * len(X))\n",
    "\n",
    "def gradientDescent(X, y, theta, alpha, iters):  \n",
    "    temp = np.matrix(np.zeros(theta.shape))\n",
    "    parameters = int(theta.ravel().shape[1])\n",
    "    cost = np.zeros(iters)\n",
    "\n",
    "    for i in range(iters):\n",
    "        error = (X * theta.T) - y\n",
    "\n",
    "        for j in range(parameters):\n",
    "            term = np.multiply(error, X[:,j])\n",
    "            temp[0,j] = theta[0,j] - ((alpha / len(X)) * np.sum(term))\n",
    "\n",
    "        theta = temp\n",
    "        cost[i] = computeCost(X, y, theta)\n",
    "\n",
    "    return theta, cost"
   ]
  },
  {
   "cell_type": "code",
   "execution_count": 53,
   "metadata": {
    "collapsed": false
   },
   "outputs": [
    {
     "data": {
      "text/plain": [
       "matrix([[ -1.67710290e-16,   9.26317021e-01]])"
      ]
     },
     "execution_count": 53,
     "metadata": {},
     "output_type": "execute_result"
    }
   ],
   "source": [
    "theta, cost = gradientDescent(X, Y, theta, 0.07, 1500)\n",
    "theta"
   ]
  }
 ],
 "metadata": {
  "kernelspec": {
   "display_name": "Python 3",
   "language": "python",
   "name": "python3"
  },
  "language_info": {
   "codemirror_mode": {
    "name": "ipython",
    "version": 3.0
   },
   "file_extension": ".py",
   "mimetype": "text/x-python",
   "name": "python",
   "nbconvert_exporter": "python",
   "pygments_lexer": "ipython3",
   "version": "3.6.0"
  }
 },
 "nbformat": 4,
 "nbformat_minor": 0
}
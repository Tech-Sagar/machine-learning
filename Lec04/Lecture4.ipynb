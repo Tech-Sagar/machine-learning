{
 "cells": [
  {
   "cell_type": "code",
   "execution_count": 109,
   "metadata": {
    "collapsed": true
   },
   "outputs": [],
   "source": [
    "import numpy as np\n",
    "from numpy import genfromtxt\n",
    "import random\n",
    "import pandas as pd\n",
    "import matplotlib.pyplot as plt\n"
   ]
  },
  {
   "cell_type": "code",
   "execution_count": 110,
   "metadata": {
    "collapsed": true
   },
   "outputs": [],
   "source": [
    "###Function te update params\n",
    "def step_gradient(b_current, m_current, points, learningRate):\n",
    "    b_gradient = 0\n",
    "    m_gradient = 0\n",
    "    N = len(points)\n",
    "    for i in range(N):\n",
    "        x = points[i,0]\n",
    "        y = points[i,1]\n",
    "        b_gradient += -(2/N)*(y- (m_current*x + b_current) )\n",
    "        m_gradient += -(2/N)*x*(y-(m_current*x + b_current))\n",
    "    new_b = b_current - (learningRate * b_gradient)\n",
    "    new_m = m_current - (learningRate * m_gradient)\n",
    "    return [new_b, new_m]"
   ]
  },
  {
   "cell_type": "code",
   "execution_count": null,
   "metadata": {
    "collapsed": true
   },
   "outputs": [],
   "source": []
  },
  {
   "cell_type": "code",
   "execution_count": 111,
   "metadata": {
    "collapsed": true
   },
   "outputs": [],
   "source": [
    "def gradient_descent_runner(points, start_b, start_m, learningRate, num_iterations):\n",
    "    \n",
    "    b = start_b\n",
    "    m = start_m\n",
    "    colors=['b', 'g', 'r', 'c', 'm', 'y', 'k', 'w']\n",
    "    for i in range(num_iterations):\n",
    "        x = [points[i][0] for i in range(len(points))]\n",
    "        y = [points[i][1] for i in range(len(points))]\n",
    "        plt.scatter(x,y)\n",
    "\n",
    "        b,m = step_gradient(b, m, np.array(points), learningRate)\n",
    "        if(i%100 == 0):\n",
    "#             print(i)            \n",
    "            y1 = [((m*points[i][0])+b) for i in range(len(points))]\n",
    "            plt.plot(x,y1,color=random.choice(colors))\n",
    "    plt.show()\n",
    "    return [m,b]"
   ]
  },
  {
   "cell_type": "code",
   "execution_count": 112,
   "metadata": {
    "collapsed": true
   },
   "outputs": [],
   "source": [
    "def cost_func(m,b,points):\n",
    "    totalCost = 0\n",
    "    for i in range(len(points)):\n",
    "        x = points[i,0]\n",
    "        y = points[i,1]\n",
    "        totalCost += ( y - (m*x + b) )**2\n",
    "    return totalCost/len(points)"
   ]
  },
  {
   "cell_type": "code",
   "execution_count": 113,
   "metadata": {
    "collapsed": true
   },
   "outputs": [],
   "source": [
    "def run():\n",
    "    points = genfromtxt(\"https://lookaside.fbsbx.com/file/data.csv?token=AWx6ttRYNxAG00d2IsU9mqpkY0ELcYVO-4lvlCKy6i5QJ2-olXEKsZpKH6y5zwEEj23gqajqx02JPELg5bzxopqG0aYKxaLKOEcJz2Hv6j8vdo0FKqIH-DIzZT1nveV9btH0zYI7u-hrFwxicjHR9pG6yWOSaql8359o-5zHJjT60n90A48Aeqj5vj_lCBNVvBY\",delimiter = ',')\n",
    "    learningRate = 0.0001\n",
    "    initial_b = 0\n",
    "    initial_m = 0\n",
    "    num_iterations = 1000\n",
    "    print(cost_func(initial_m, initial_b, points))\n",
    "    final_m, final_b = gradient_descent_runner(points, initial_b, initial_m, learningRate, num_iterations)\n",
    "    print(cost_func(final_m, final_b, points))\n",
    "    print(final_m , final_b)\n",
    "    return final_m, final_b\n",
    "    "
   ]
  },
  {
   "cell_type": "code",
   "execution_count": 114,
   "metadata": {},
   "outputs": [
    {
     "name": "stdout",
     "output_type": "stream",
     "text": [
      "5565.10783448\n"
     ]
    },
    {
     "data": {
      "image/png": "[encoded data removed]",
      "text/plain": [
       "<matplotlib.figure.Figure at 0x24b02bba470>"
      ]
     },
     "metadata": {},
     "output_type": "display_data"
    },
    {
     "name": "stdout",
     "output_type": "stream",
     "text": [
      "112.614810116\n",
      "1.47774408519 0.0889365199374\n"
     ]
    }
   ],
   "source": [
    "fm,fb=run()"
   ]
  },
  {
   "cell_type": "code",
   "execution_count": 115,
   "metadata": {},
   "outputs": [
    {
     "data": {
      "image/png": "[encoded data removed]",
      "text/plain": [
       "<matplotlib.figure.Figure at 0x24b0666d198>"
      ]
     },
     "metadata": {},
     "output_type": "display_data"
    }
   ],
   "source": [
    "import matplotlib.pyplot as plt\n",
    "\n",
    "points=genfromtxt(\"https://lookaside.fbsbx.com/file/data.csv?token=AWx6ttRYNxAG00d2IsU9mqpkY0ELcYVO-4lvlCKy6i5QJ2-olXEKsZpKH6y5zwEEj23gqajqx02JPELg5bzxopqG0aYKxaLKOEcJz2Hv6j8vdo0FKqIH-DIzZT1nveV9btH0zYI7u-hrFwxicjHR9pG6yWOSaql8359o-5zHJjT60n90A48Aeqj5vj_lCBNVvBY\", delimiter=',')\n",
    "x=[points[i][0] for i in range(len(points))]\n",
    "y=[points[i][1] for i in range(len(points))]\n",
    "y1=[((fm*points[i][0])+fb)for i in range (len(points))]\n",
    "plt.scatter(x,y)\n",
    "plt.plot(x,y1)\n",
    "plt.show()\n"
   ]
  },
  {
   "cell_type": "code",
   "execution_count": null,
   "metadata": {
    "collapsed": true
   },
   "outputs": [],
   "source": []
  },
  {
   "cell_type": "code",
   "execution_count": null,
   "metadata": {
    "collapsed": true
   },
   "outputs": [],
   "source": []
  }
 ],
 "metadata": {
  "kernelspec": {
   "display_name": "Python 3",
   "language": "python",
   "name": "python3"
  },
  "language_info": {
   "codemirror_mode": {
    "name": "ipython",
    "version": 3
   },
   "file_extension": ".py",
   "mimetype": "text/x-python",
   "name": "python",
   "nbconvert_exporter": "python",
   "pygments_lexer": "ipython3",
   "version": "3.6.1"
  }
 },
 "nbformat": 4,
 "nbformat_minor": 2
}

{
 "cells": [
  {
   "cell_type": "code",
   "execution_count": null,
   "metadata": {
    "collapsed": false
   },
   "outputs": [
    {
     "name": "stdout",
     "output_type": "stream",
     "text": [
      "0 0\n",
      "1 0\n"
     ]
    },
    {
     "data": {
      "text/plain": [
       "[[1], [1]]"
      ]
     },
     "execution_count": 22,
     "metadata": {},
     "output_type": "execute_result"
    }
   ],
   "source": [
    "# Multiply Python Matrices\n",
    "def cell(A, B, row, col):\n",
    "    sum = 0\n",
    "    print(row, col)\n",
    "    for x in range(len(A[0])):    # A[0] is the number of columns in A, which equals the number of rows in B\n",
    "        sum += A[row][x] * B[x][col]\n",
    "    return sum\n",
    "\n",
    "def multiply(A, B):\n",
    "    if (len(A[0]) != len(B)):\n",
    "        print(\"Incompatible Matrices!\")\n",
    "        return\n",
    "    for i, row in enumerate(A):\n",
    "        if (len(A[i]) != len(A[0])):\n",
    "            print(\"A is inconsistent!\")\n",
    "            return\n",
    "    for i, row in enumerate(B):\n",
    "        if (len(B[i]) != len(B[0])):\n",
    "            print(\"B is inconsistent!\")\n",
    "            return\n",
    "    \n",
    "    C = [[cell(A, B, i, j) for j in range(len(B[0]))] for i in range(len(A))]\n",
    "    return C\n",
    "\n",
    "A = [[1, 0], [0, 1]]\n",
    "B = [[1], [1]]\n",
    "multiply(A, B)"
   ]
  },
  {
   "cell_type": "code",
   "execution_count": null,
   "metadata": {
    "collapsed": false
   },
   "outputs": [
    {
     "data": {
      "text/plain": [
       "[[2], [2]]"
      ]
     },
     "execution_count": 26,
     "metadata": {},
     "output_type": "execute_result"
    }
   ],
   "source": [
    "# Multiply NumPy Matrices\n",
    "import numpy as np\n",
    "\n",
    "def cell(row, col):\n",
    "    return (row * col).sum()\n",
    "\n",
    "def multiply(A, B):\n",
    "    if (len(A[0]) != len(B)):\n",
    "        print(\"Incompatible Matrices!\")\n",
    "        return\n",
    "    for i, row in enumerate(A):\n",
    "        if (len(A[i]) != len(A[0])):\n",
    "            print(\"A is inconsistent!\")\n",
    "            return\n",
    "    for i, row in enumerate(B):\n",
    "        if (len(B[i]) != len(B[0])):\n",
    "            print(\"B is inconsistent!\")\n",
    "            return\n",
    "    \n",
    "    C = [[cell(A[i][:], B[:][j]) for j in range(len(B[0]))] for i in range(len(A))]\n",
    "    return C\n",
    "\n",
    "A = np.array([[1, 1], [1, 1]])\n",
    "B = np.array([[1], [1]])\n",
    "multiply(A, B)"
   ]
  },
  {
   "cell_type": "code",
   "execution_count": null,
   "metadata": {
    "collapsed": true
   },
   "outputs": [],
   "source": [
    "# Add Python Lists as Numbers\n",
    "def add(list1, list2):\n",
    "    num1 = 0\n",
    "    for digit in list1:\n",
    "        num1 += num1 * 10 + digit\n",
    "        \n",
    "    num2 = 0\n",
    "    for digit in list2:\n",
    "        num2 += num2 * 10 + digit\n",
    "        \n",
    "    num3 = num1 + num2\n",
    "    list3 = []\n",
    "    while num3 > 0:\n",
    "        list3.append(num3 % 10)\n",
    "    \n",
    "    return list3.reverse()\n",
    "\n",
    "add([1], [9,9])"
   ]
  }
 ],
 "metadata": {
  "kernelspec": {
   "display_name": "Python 3",
   "language": "python",
   "name": "python3"
  },
  "language_info": {
   "codemirror_mode": {
    "name": "ipython",
    "version": 3.0
   },
   "file_extension": ".py",
   "mimetype": "text/x-python",
   "name": "python",
   "nbconvert_exporter": "python",
   "pygments_lexer": "ipython3",
   "version": "3.6.0"
  }
 },
 "nbformat": 4,
 "nbformat_minor": 0
}
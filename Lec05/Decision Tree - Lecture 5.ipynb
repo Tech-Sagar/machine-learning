{
 "cells": [
  {
   "cell_type": "markdown",
   "metadata": {},
   "source": [
    "//Psedocode\n",
    "Generate_Decision_Tree(D, attribute_list)\n",
    "\n",
    "create a node N\n",
    "//first condition\n",
    "if all tuples in N belong to same class, mark it and return as leaf node\n",
    "\n",
    "//second condition\n",
    "if attribute list is empty\n",
    "return N labelled as maijority class\n",
    "\n",
    "//third condition\n",
    "splitting_criterion = apply \n",
    "                        Attribute_Selection_Method(D, attribute_list):\n",
    "        if s_c is discrete valued:\n",
    "            attribute_list = attribute_list - splitting_criterion\n",
    "            for every j outcome of splitting_criterion:\n",
    "                let Dj be set of tuples satisfying outcome j\n",
    "                attach a node returned by \n",
    "                Generate_Decision_Tree(Dj, attribte_list)\n",
    "        \n",
    "        \n",
    "    \n",
    "    \n"
   ]
  },
  {
   "cell_type": "code",
   "execution_count": 1,
   "metadata": {
    "collapsed": true
   },
   "outputs": [],
   "source": [
    "from sklearn import datasets\n",
    "from sklearn import tree\n",
    "import pydotplus"
   ]
  },
  {
   "cell_type": "code",
   "execution_count": 10,
   "metadata": {
    "collapsed": true
   },
   "outputs": [],
   "source": [
    "iris = datasets.load_iris()\n",
    "\n",
    "clf = tree.DecisionTreeClassifier()"
   ]
  },
  {
   "cell_type": "code",
   "execution_count": 11,
   "metadata": {
    "collapsed": false
   },
   "outputs": [
    {
     "data": {
      "text/plain": [
       "True"
      ]
     },
     "execution_count": 11,
     "metadata": {},
     "output_type": "execute_result"
    }
   ],
   "source": [
    "clf.fit(iris.data, iris.target)\n",
    "\n",
    "dot_data = tree.export_graphviz(clf, out_file = None, \n",
    "                                #feature_names = iris.feature_names,\n",
    "                               #class_names = iris.target_names, \n",
    "                                filled = True, rounded = True,\n",
    "                               special_characters = True)\n",
    "graph = pydotplus.graph_from_dot_data(dot_data)\n",
    "graph.write_pdf(\"iris.pdf\")"
   ]
  },
  {
   "cell_type": "markdown",
   "metadata": {},
   "source": [
    "Creating random dataset to test with various classifiers using cross_val_score"
   ]
  },
  {
   "cell_type": "code",
   "execution_count": 1,
   "metadata": {
    "collapsed": true
   },
   "outputs": [],
   "source": [
    "from sklearn.datasets import make_blobs \n",
    "import matplotlib.pyplot as plt\n",
    "from sklearn import ensemble"
   ]
  },
  {
   "cell_type": "code",
   "execution_count": 2,
   "metadata": {
    "collapsed": true
   },
   "outputs": [],
   "source": [
    "X, Y = make_blobs(n_samples = 1000, n_features = 10, \n",
    "                  centers = 100,\n",
    "                 random_state = 0)"
   ]
  },
  {
   "cell_type": "markdown",
   "metadata": {},
   "source": [
    "Test the X and Y created for accuracy using DecisionTree and RandomForest and try to make tree using DT."
   ]
  },
  {
   "cell_type": "code",
   "execution_count": null,
   "metadata": {
    "collapsed": true
   },
   "outputs": [],
   "source": []
  }
 ],
 "metadata": {
  "anaconda-cloud": {},
  "kernelspec": {
   "display_name": "Python [default]",
   "language": "python",
   "name": "python3"
  },
  "language_info": {
   "codemirror_mode": {
    "name": "ipython",
    "version": 3
   },
   "file_extension": ".py",
   "mimetype": "text/x-python",
   "name": "python",
   "nbconvert_exporter": "python",
   "pygments_lexer": "ipython3",
   "version": "3.5.2"
  }
 },
 "nbformat": 4,
 "nbformat_minor": 1
}

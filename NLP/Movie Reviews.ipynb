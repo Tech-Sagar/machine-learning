{
 "cells": [
  {
   "cell_type": "code",
   "execution_count": null,
   "metadata": {
    "collapsed": true
   },
   "outputs": [],
   "source": [
    "import numpy as np\n",
    "from sklearn.model_selection import train_test_split\n",
    "from nltk.tokenize import word_tokenize, sent_tokenize\n",
    "from nltk.corpus import stopwords\n",
    "from nltk import pos_tag\n",
    "from nltk.stem import WordNetLemmatizer\n",
    "from nltk.corpus import wordnet\n",
    "from nltk.classify.scikitlearn import SklearnClassifier\n",
    "from sklearn.feature_extraction.text import CountVectorizer\n",
    "import string\n",
    "import nltk\n",
    "from collections import Counter\n",
    "import string"
   ]
  },
  {
   "cell_type": "markdown",
   "metadata": {},
   "source": [
    "# Tokenization and PoS Tagging"
   ]
  },
  {
   "cell_type": "code",
   "execution_count": null,
   "metadata": {
    "collapsed": false
   },
   "outputs": [
    {
     "name": "stdout",
     "output_type": "stream",
     "text": [
      "DONE  0.0\n",
      "DONE  10.0\n",
      "DONE  20.0\n",
      "DONE  30.0\n",
      "DONE  40.0\n",
      "DONE  50.0\n",
      "DONE  60.0\n",
      "DONE  70.0\n",
      "DONE  80.0\n",
      "DONE  90.0\n"
     ]
    }
   ],
   "source": [
    "from nltk.corpus import movie_reviews\n",
    "\n",
    "docs = []\n",
    "docs_tags = []\n",
    "for j, category in enumerate(movie_reviews.categories()):\n",
    "    for i, fileid in enumerate(movie_reviews.fileids(category)):\n",
    "        movie_file = movie_reviews.raw(movie_reviews.fileids()[i + 1000 * j])\n",
    "        if (i + 1000 * j) % 200 == 0:\n",
    "            print(\"DONE \", (i + 1000 * j)/20)\n",
    "        \n",
    "        doc = []\n",
    "        doc_tags = []\n",
    "        lower = movie_file.lower()\n",
    "        words = word_tokenize(lower)\n",
    "        tagged_doc = pos_tag(words)\n",
    "        \n",
    "        words = []\n",
    "        tags = []\n",
    "        for pair in tagged_doc:\n",
    "            word = pair[0]\n",
    "            tag = pair[1]\n",
    "            words.append(word)\n",
    "            tags.append(tag)\n",
    "            \n",
    "        doc.append(words)\n",
    "        doc.append(category)\n",
    "        \n",
    "        docs.append(doc)\n",
    "        docs_tags.append(tags)"
   ]
  },
  {
   "cell_type": "code",
   "execution_count": 2,
   "metadata": {
    "collapsed": false
   },
   "outputs": [],
   "source": [
    "# docs[0][0]"
   ]
  },
  {
   "cell_type": "markdown",
   "metadata": {},
   "source": [
    "# Lemmatization"
   ]
  },
  {
   "cell_type": "code",
   "execution_count": 36,
   "metadata": {
    "collapsed": false
   },
   "outputs": [
    {
     "name": "stdout",
     "output_type": "stream",
     "text": [
      "DONE  0.0\n",
      "DONE  10.0\n",
      "DONE  20.0\n",
      "DONE  30.0\n",
      "DONE  40.0\n",
      "DONE  50.0\n",
      "DONE  60.0\n",
      "DONE  70.0\n",
      "DONE  80.0\n",
      "DONE  90.0\n"
     ]
    }
   ],
   "source": [
    "def wordnet_to_lemmatizer(pos_tag):\n",
    "    if pos_tag.startswith('N'):\n",
    "        return wordnet.NOUN\n",
    "    elif pos_tag.startswith('V'):\n",
    "        return wordnet.VERB\n",
    "    elif pos_tag.startswith('J'):\n",
    "        return wordnet.ADJ\n",
    "    elif pos_tag.startswith('R'):\n",
    "        return wordnet.ADV\n",
    "    else:\n",
    "        return ''\n",
    "\n",
    "lem = WordNetLemmatizer()\n",
    "\n",
    "for i, doc in enumerate(docs):\n",
    "    if (i % 200) == 0:\n",
    "        print(\"DONE \", i/20)\n",
    "    lem_doc = []\n",
    "    \n",
    "    lem_words = []\n",
    "    for j, word in enumerate(doc[0]):\n",
    "        tag = wordnet_to_lemmatizer(docs_tags[i][j])\n",
    "        \n",
    "        if tag != '':\n",
    "            lemmatized_word = lem.lemmatize(word, pos=tag)\n",
    "        else:\n",
    "            lemmatized_word = word\n",
    "            \n",
    "        lem_words.append(lemmatized_word)\n",
    "    lem_doc.append(lem_words)\n",
    "    lem_doc.append(doc[1])\n",
    "    \n",
    "    docs[i] = lem_doc"
   ]
  },
  {
   "cell_type": "code",
   "execution_count": 3,
   "metadata": {
    "collapsed": false
   },
   "outputs": [],
   "source": [
    "# docs[1000]"
   ]
  },
  {
   "cell_type": "markdown",
   "metadata": {},
   "source": [
    "# Negation Handling"
   ]
  },
  {
   "cell_type": "code",
   "execution_count": 41,
   "metadata": {
    "collapsed": false
   },
   "outputs": [
    {
     "name": "stdout",
     "output_type": "stream",
     "text": [
      "DONE  0.0\n",
      "DONE  10.0\n",
      "DONE  20.0\n",
      "DONE  30.0\n",
      "DONE  40.0\n",
      "DONE  50.0\n",
      "DONE  60.0\n",
      "DONE  70.0\n",
      "DONE  80.0\n",
      "DONE  90.0\n"
     ]
    }
   ],
   "source": [
    "negatives = set([\"not\", \"n't\", \"never\", \"neither\", \"nor\"])\n",
    "punctuations = set([\".\", \",\", \"!\", \"?\", \";\", \":\", \"(\", \")\"])\n",
    "def negation_handler(words):\n",
    "    replacer = False\n",
    "    for i, word in enumerate(words):\n",
    "        if word in punctuations:\n",
    "            replacer = False\n",
    "            \n",
    "        if replacer == True:\n",
    "            not_word = \"NOT_\" + word\n",
    "            words[i] = not_word\n",
    "            \n",
    "        if word in negatives:\n",
    "            replacer = True\n",
    "            \n",
    "for i, doc in enumerate(docs):\n",
    "    if (i % 200 == 0):\n",
    "        print(\"DONE \", i/20)\n",
    "    logical_doc = []\n",
    "    \n",
    "    words = doc[0]\n",
    "    negation_handler(words)\n",
    "    logical_doc.append(words)\n",
    "    logical_doc.append(doc[1])\n",
    "    \n",
    "    docs[i] = logical_doc"
   ]
  },
  {
   "cell_type": "code",
   "execution_count": 4,
   "metadata": {
    "collapsed": false
   },
   "outputs": [],
   "source": [
    "# docs[1000]"
   ]
  },
  {
   "cell_type": "markdown",
   "metadata": {},
   "source": [
    "# Removing Stop Words and Noise"
   ]
  },
  {
   "cell_type": "code",
   "execution_count": null,
   "metadata": {
    "collapsed": true
   },
   "outputs": [],
   "source": [
    "stops = list(stopwords.words('english'))\n",
    "stops.append(\"'s\")\n",
    "stops.append(\"n't\")\n",
    "for i, word in enumerate(stops):\n",
    "    not_word = \"NOT_\" + word\n",
    "    stops.append(not_word)\n",
    "stops = set(stops)\n",
    "\n",
    "noise_tags = set([\"CC\", \"CD\", \"DT\", \"EX\", \"FW\", \"IN\", \"LS\", \"PDT\", \"POS\",\n",
    "                  \"PRP\", \"PRP$\", \"RP\", \"TO\", \"UH\", \"WDT\", \"WP\", \"WP$\", \"WRB\",\n",
    "                  \",\", \":\", \";\", \".\", '\"', \"'\", \"/\", \"\\\\\", \"(\", \")\", \"@\", \"&\", \"``\",\n",
    "                  \"'s\"])\n",
    "def removeWord(posTag):\n",
    "    if posTag[1] in noise_tags:\n",
    "        return True\n",
    "    else:\n",
    "        return False\n",
    "\n",
    "for i, doc in enumerate(docs):\n",
    "    if (i % 200) == 0:\n",
    "        print(\"DONE \", i/20)\n",
    "        \n",
    "    filtered_doc = []\n",
    "    \n",
    "    filtered_words = []\n",
    "    for j, word in enumerate(doc[0]):\n",
    "        tag = docs_tags[i][j]\n",
    "        if (word not in stops and tag not in noise_tags):\n",
    "            filtered_words.append(word)\n",
    "    \n",
    "    filtered_doc.append(filtered_words)\n",
    "    filtered_doc"
   ]
  }
 ],
 "metadata": {
  "kernelspec": {
   "display_name": "Python 3",
   "language": "python",
   "name": "python3"
  },
  "language_info": {
   "codemirror_mode": {
    "name": "ipython",
    "version": 3.0
   },
   "file_extension": ".py",
   "mimetype": "text/x-python",
   "name": "python",
   "nbconvert_exporter": "python",
   "pygments_lexer": "ipython3",
   "version": "3.6.0"
  }
 },
 "nbformat": 4,
 "nbformat_minor": 0
}